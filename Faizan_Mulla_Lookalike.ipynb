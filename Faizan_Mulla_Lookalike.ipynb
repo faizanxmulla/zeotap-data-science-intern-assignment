{
 "cells": [
  {
   "cell_type": "markdown",
   "metadata": {},
   "source": [
    "#### **Importing Libraries**"
   ]
  },
  {
   "cell_type": "code",
   "execution_count": 1,
   "metadata": {},
   "outputs": [],
   "source": [
    "import numpy as np\n",
    "import pandas as pd\n",
    "\n",
    "from sklearn.preprocessing import StandardScaler\n",
    "from sklearn.metrics.pairwise import cosine_similarity"
   ]
  },
  {
   "cell_type": "markdown",
   "metadata": {},
   "source": [
    "#### **Importing Datasets**"
   ]
  },
  {
   "cell_type": "code",
   "execution_count": 2,
   "metadata": {},
   "outputs": [],
   "source": [
    "customers_df = pd.read_csv(\"data/Customers.csv\")\n",
    "products_df = pd.read_csv(\"data/Products.csv\")\n",
    "transactions_df = pd.read_csv(\"data/Transactions.csv\")"
   ]
  },
  {
   "cell_type": "markdown",
   "metadata": {},
   "source": [
    "#### **2. Feature Engineering**"
   ]
  },
  {
   "cell_type": "code",
   "execution_count": 3,
   "metadata": {},
   "outputs": [],
   "source": [
    "transaction_features = (\n",
    "    transactions_df.groupby(\"CustomerID\")\n",
    "    .agg({\n",
    "            \"TotalValue\": [\"sum\", \"mean\", \"count\"], \n",
    "            \"Quantity\": [\"sum\", \"mean\"]})\n",
    "    .reset_index()\n",
    ")\n",
    "\n",
    "transaction_features.columns = [\n",
    "    \"CustomerID\",\n",
    "    \"total_transaction_value\",\n",
    "    \"avg_transaction_value\",\n",
    "    \"transaction_count\",\n",
    "    \"total_quantity\",\n",
    "    \"avg_quantity\",\n",
    "]"
   ]
  },
  {
   "cell_type": "markdown",
   "metadata": {},
   "source": [
    "Merge with customer dataframe"
   ]
  },
  {
   "cell_type": "code",
   "execution_count": 4,
   "metadata": {},
   "outputs": [],
   "source": [
    "customer_features = customers_df.merge(transaction_features, on=\"CustomerID\", how=\"left\")"
   ]
  },
  {
   "cell_type": "markdown",
   "metadata": {},
   "source": [
    "One-Hot Encoding - Region Column"
   ]
  },
  {
   "cell_type": "code",
   "execution_count": 5,
   "metadata": {},
   "outputs": [],
   "source": [
    "region_encoded = pd.get_dummies(customer_features[\"Region\"], prefix=\"region\")\n",
    "customer_features = pd.concat([customer_features, region_encoded], axis=1)"
   ]
  },
  {
   "cell_type": "markdown",
   "metadata": {},
   "source": [
    "#### **3. Feature Preparation**"
   ]
  },
  {
   "cell_type": "code",
   "execution_count": 6,
   "metadata": {},
   "outputs": [],
   "source": [
    "feature_columns = [\n",
    "    \"total_transaction_value\",\n",
    "    \"avg_transaction_value\",\n",
    "    \"transaction_count\",\n",
    "    \"total_quantity\",\n",
    "    \"avg_quantity\",\n",
    "] + [col for col in customer_features.columns if col.startswith(\"region_\")]"
   ]
  },
  {
   "cell_type": "markdown",
   "metadata": {},
   "source": [
    "Handle missing/infinity values"
   ]
  },
  {
   "cell_type": "code",
   "execution_count": 7,
   "metadata": {},
   "outputs": [],
   "source": [
    "customer_features[feature_columns] = customer_features[feature_columns].fillna(0)\n",
    "customer_features[feature_columns] = customer_features[feature_columns].replace([np.inf, -np.inf], 0)"
   ]
  },
  {
   "cell_type": "markdown",
   "metadata": {},
   "source": [
    "Normalization"
   ]
  },
  {
   "cell_type": "code",
   "execution_count": 8,
   "metadata": {},
   "outputs": [],
   "source": [
    "scaler = StandardScaler()\n",
    "normalized_features = scaler.fit_transform(customer_features[feature_columns])"
   ]
  },
  {
   "cell_type": "markdown",
   "metadata": {},
   "source": [
    "#### **4. Similarity Calculation**"
   ]
  },
  {
   "cell_type": "code",
   "execution_count": 9,
   "metadata": {},
   "outputs": [],
   "source": [
    "def find_lookalikes(target_customer_id, normalized_features, customer_features, top_n=3):\n",
    "    if target_customer_id not in customer_features[\"CustomerID\"].values:\n",
    "        print(f\"CustomerID {target_customer_id} not found!\")\n",
    "        return []\n",
    "\n",
    "    # Find index of target customer\n",
    "    target_index = customer_features[customer_features[\"CustomerID\"] == target_customer_id].index[0]\n",
    "\n",
    "    # Calculate cosine similarity\n",
    "    target_vector = normalized_features[target_index].reshape(1, -1)\n",
    "    similarities = cosine_similarity(target_vector, normalized_features)[0]\n",
    "\n",
    "    # Exclude the target customer itself\n",
    "    similarities[target_index] = -1\n",
    "    top_indices = np.argsort(similarities)[::-1][:top_n]\n",
    "\n",
    "    # Get lookalikes with their similarity scores\n",
    "    lookalikes = [\n",
    "        {\n",
    "            \"customer_id\": customer_features.iloc[idx][\"CustomerID\"],\n",
    "            \"similarity_score\": float(similarities[idx]),\n",
    "        }\n",
    "        for idx in top_indices\n",
    "    ]\n",
    "\n",
    "    return lookalikes"
   ]
  },
  {
   "cell_type": "markdown",
   "metadata": {},
   "source": [
    "#### **5. Saving Results**"
   ]
  },
  {
   "cell_type": "code",
   "execution_count": 10,
   "metadata": {},
   "outputs": [],
   "source": [
    "target_customers = [f\"C{str(i).zfill(4)}\" for i in range(1, 21)]"
   ]
  },
  {
   "cell_type": "code",
   "execution_count": 11,
   "metadata": {},
   "outputs": [
    {
     "name": "stdout",
     "output_type": "stream",
     "text": [
      "Lookalike CSV file generated successfully!\n"
     ]
    }
   ],
   "source": [
    "with open(\"Faizan_Mulla_Lookalike.csv\", \"w\") as f:\n",
    "    f.write(\"CustomerID, Lookalikes\\n\")\n",
    "    for customer_id in target_customers:\n",
    "        lookalikes = find_lookalikes(customer_id, normalized_features, customer_features)\n",
    "\n",
    "        lookalike_str = (\"[\" + \", \".join([f'C{i[\"customer_id\"].split(\"C\")[1]}:{i[\"similarity_score\"]}' for i in lookalikes])+ \"]\")\n",
    "\n",
    "        f.write(f'{customer_id}, \"{lookalike_str}\"\\n')\n",
    "\n",
    "print(\"Lookalike CSV file generated successfully!\")"
   ]
  }
 ],
 "metadata": {
  "kernelspec": {
   "display_name": "base",
   "language": "python",
   "name": "python3"
  },
  "language_info": {
   "codemirror_mode": {
    "name": "ipython",
    "version": 3
   },
   "file_extension": ".py",
   "mimetype": "text/x-python",
   "name": "python",
   "nbconvert_exporter": "python",
   "pygments_lexer": "ipython3",
   "version": "3.9.7"
  }
 },
 "nbformat": 4,
 "nbformat_minor": 2
}
